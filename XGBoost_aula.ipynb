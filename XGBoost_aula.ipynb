{
 "cells": [
  {
   "cell_type": "markdown",
   "id": "af01f734-c72f-453a-9871-0707d422a5fc",
   "metadata": {},
   "source": [
    "Importação da biblioteca para podermos utilizar o conjunto de dados Iris, é feito um conjunto de dados com 150 exemplos e 4 caracteristicas, e com 3 tipos de iris"
   ]
  },
  {
   "cell_type": "code",
   "execution_count": 1,
   "id": "3c9341fe-fbd1-49e7-ba0d-f28237385469",
   "metadata": {},
   "outputs": [
    {
     "name": "stdout",
     "output_type": "stream",
     "text": [
      "150\n",
      "4\n",
      "['setosa', 'versicolor', 'virginica']\n"
     ]
    }
   ],
   "source": [
    "from sklearn.datasets import load_iris\n",
    "\n",
    "iris = load_iris()\n",
    "\n",
    "numSamples, numFeatures = iris.data.shape\n",
    "print(numSamples)\n",
    "print(numFeatures)\n",
    "print(list(iris.target_names))"
   ]
  },
  {
   "cell_type": "markdown",
   "id": "422fb201-9f8b-43c2-bb91-8050874a8738",
   "metadata": {},
   "source": [
    "Aqui é a separação dos dados 20% para teste e 80% para treinamento"
   ]
  },
  {
   "cell_type": "code",
   "execution_count": 3,
   "id": "088d50f2-a0c6-49c7-a04a-32f030c1f065",
   "metadata": {},
   "outputs": [],
   "source": [
    "from sklearn.model_selection import train_test_split\n",
    "\n",
    "X_train, X_test, y_train, y_test = train_test_split(iris.data, iris.target, test_size=0.2, random_state=0)"
   ]
  },
  {
   "cell_type": "markdown",
   "id": "c949b65a-ab1a-47f5-ab9e-0bb986f7c4e5",
   "metadata": {},
   "source": [
    "Importação da biblioteca do xgboost e é passado através dos métodos quais são os dados de teste e quais são os dados de treinamento"
   ]
  },
  {
   "cell_type": "code",
   "execution_count": 5,
   "id": "ff348dd5-2762-4600-98d5-26dd6b5103ce",
   "metadata": {},
   "outputs": [],
   "source": [
    "import xgboost as xgb\n",
    "\n",
    "train = xgb.DMatrix(X_train, label=y_train)\n",
    "test = xgb.DMatrix(X_test, label=y_test)"
   ]
  },
  {
   "cell_type": "markdown",
   "id": "3b9018bc-a63d-4082-bbf4-5cd2930b1292",
   "metadata": {},
   "source": [
    "Aqui são os parametros para o xgboost (a parte mais complicada pois aqui que você transforma o seu modelo em um modelo bom ou em algo inútil) e a quantidade de vezes que ele vai treinar."
   ]
  },
  {
   "cell_type": "code",
   "execution_count": 7,
   "id": "4da85b2c-547a-40aa-9faf-80fd2804896e",
   "metadata": {},
   "outputs": [],
   "source": [
    "param = {\n",
    "    'max_depth': 4,\n",
    "    'eta': 0.3,\n",
    "    'objective': 'multi:softmax',\n",
    "    'num_class': 3} \n",
    "epochs = 10 "
   ]
  },
  {
   "cell_type": "markdown",
   "id": "5f193891-62eb-421f-a9b6-4c300664548f",
   "metadata": {},
   "source": [
    "Aqui é o treinamento"
   ]
  },
  {
   "cell_type": "code",
   "execution_count": 9,
   "id": "31193627-9a01-40f2-925f-5cb59393182f",
   "metadata": {},
   "outputs": [],
   "source": [
    "model = xgb.train(param, train, epochs)"
   ]
  },
  {
   "cell_type": "markdown",
   "id": "441566cd-e177-4b4a-acb3-d05f50d56d7f",
   "metadata": {},
   "source": [
    "Aqui é o teste com os 20% para ver se o modelo foi bem ajustado"
   ]
  },
  {
   "cell_type": "code",
   "execution_count": 11,
   "id": "1637b4d2-7ec5-43eb-b84f-7562342de192",
   "metadata": {},
   "outputs": [],
   "source": [
    "predictions = model.predict(test)"
   ]
  },
  {
   "cell_type": "markdown",
   "id": "e8d4aef8-a59b-458a-953b-a038237bffcb",
   "metadata": {},
   "source": [
    "0 = setosa, 1 = versicolor, 2 - virginica"
   ]
  },
  {
   "cell_type": "code",
   "execution_count": 13,
   "id": "5c0460c9-338b-47b2-a07b-3dbf25cdea7e",
   "metadata": {},
   "outputs": [
    {
     "name": "stdout",
     "output_type": "stream",
     "text": [
      "[2. 1. 0. 2. 0. 2. 0. 1. 1. 1. 2. 1. 1. 1. 1. 0. 1. 1. 0. 0. 2. 1. 0. 0.\n",
      " 2. 0. 0. 1. 1. 0.]\n"
     ]
    }
   ],
   "source": [
    "print(predictions)"
   ]
  },
  {
   "cell_type": "markdown",
   "id": "03c16cee-48be-4771-afb1-4b86fd6cc4fb",
   "metadata": {},
   "source": [
    "Aqui ele importa uma biblioteca para ver a precisão do modelo criada, e como pode ser visto é perfeito."
   ]
  },
  {
   "cell_type": "code",
   "execution_count": 15,
   "id": "5a5f7150-31b7-4819-a603-50dd54050e55",
   "metadata": {},
   "outputs": [
    {
     "data": {
      "text/plain": [
       "1.0"
      ]
     },
     "execution_count": 15,
     "metadata": {},
     "output_type": "execute_result"
    }
   ],
   "source": [
    "from sklearn.metrics import accuracy_score\n",
    "\n",
    "accuracy_score(y_test, predictions)"
   ]
  }
 ],
 "metadata": {
  "kernelspec": {
   "display_name": "Python [conda env:base] *",
   "language": "python",
   "name": "conda-base-py"
  },
  "language_info": {
   "codemirror_mode": {
    "name": "ipython",
    "version": 3
   },
   "file_extension": ".py",
   "mimetype": "text/x-python",
   "name": "python",
   "nbconvert_exporter": "python",
   "pygments_lexer": "ipython3",
   "version": "3.12.7"
  }
 },
 "nbformat": 4,
 "nbformat_minor": 5
}
